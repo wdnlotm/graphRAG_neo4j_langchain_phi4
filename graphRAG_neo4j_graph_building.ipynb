{
 "cells": [
  {
   "cell_type": "code",
   "execution_count": null,
   "id": "17cbca21-0666-4d7e-a3c7-3bcae870ab0d",
   "metadata": {},
   "outputs": [],
   "source": [
    "!pwd"
   ]
  },
  {
   "cell_type": "code",
   "execution_count": 18,
   "id": "f93c66ad-9b7e-4c93-8a30-17bb67c60fb7",
   "metadata": {},
   "outputs": [],
   "source": [
    "import os, random, time\n",
    "\n",
    "from fastapi import FastAPI, HTTPException\n",
    "from langchain_core.runnables import RunnablePassthrough\n",
    "from langchain_core.prompts import ChatPromptTemplate\n",
    "from pydantic import BaseModel, Field\n",
    "from langchain_core.output_parsers import StrOutputParser\n",
    "# from langchain_community.graphs import Neo4jGraph\n",
    "from langchain_neo4j import Neo4jGraph\n",
    "# from langchain_community.chat_models import ChatOllama\n",
    "from langchain_ollama import ChatOllama\n",
    "from langchain_experimental.graph_transformers import LLMGraphTransformer\n",
    "from langchain_community.vectorstores import Neo4jVector\n",
    "from langchain_core.documents import Document\n",
    "from langchain_ollama import OllamaEmbeddings\n",
    "from langchain_experimental.llms.ollama_functions import OllamaFunctions\n",
    "\n",
    "from neo4j import GraphDatabase"
   ]
  },
  {
   "cell_type": "code",
   "execution_count": 21,
   "id": "b5bc50a9-456f-47bb-82be-5b394aa30d4a",
   "metadata": {},
   "outputs": [],
   "source": [
    "### functions\n",
    "\n",
    "# neo4j database checker\n",
    "def get_graph_data(tx):\n",
    "    nodes = []\n",
    "    edges = []\n",
    "    # Query to get all nodes and their properties\n",
    "    result_nodes = tx.run(\"MATCH (n) RETURN n\")\n",
    "    for record in result_nodes:\n",
    "        node = record[\"n\"]\n",
    "        # nodes.append({\"id\": node.id, \"labels\": list(node.labels), \"properties\": dict(node)})\n",
    "        nodes.append({\"id\": node.element_id, \"labels\": list(node.labels), \"properties\": dict(node)})\n",
    "        # element_id\n",
    "\n",
    "    # Query to get all relationships and their properties\n",
    "    result_rels = tx.run(\"MATCH (a)-[r]->(b) RETURN a, r, b\")\n",
    "    for record in result_rels:\n",
    "        start_node = record[\"a\"]\n",
    "        rel = record[\"r\"]\n",
    "        end_node = record[\"b\"]\n",
    "        edges.append({\n",
    "            \"start_id\": start_node.element_id, #start_node.id,\n",
    "            \"end_id\": end_node.element_id, #end_node.id,\n",
    "            \"type\": rel.type,\n",
    "            \"properties\": dict(rel)\n",
    "        })\n",
    "    return nodes, edges\n",
    "\n",
    "def set_random_strength_on_edges(uri, user, password, source_node_id_value):\n",
    "    \"\"\"\n",
    "    Finds edges where the source node's 'id' property matches the given value,\n",
    "    and assigns a random number between 0.0 and 1.0 to a new 'strength' property\n",
    "    on each of those edges.\n",
    "    \"\"\"\n",
    "    driver = GraphDatabase.driver(uri, auth=(user, password))\n",
    "    \n",
    "    # The Cypher query to find and update the edges\n",
    "    query = \"\"\"\n",
    "    MATCH (source {id: $source_id})-[rel]->(target)\n",
    "    SET rel.strength = rand()*0.3+0.7\n",
    "    RETURN source.id, type(rel), rel.strength, target.id\n",
    "    \"\"\"\n",
    "    \n",
    "    with driver.session() as session:\n",
    "        result = session.run(query, source_id=source_node_id_value)\n",
    "        \n",
    "        updated_edges = []\n",
    "        for record in result:\n",
    "            updated_edges.append({\n",
    "                'source_id': record['source.id'],\n",
    "                'relationship_type': record['type(rel)'],\n",
    "                'strength': record['rel.strength'],\n",
    "                'target_id': record['target.id']\n",
    "            })\n",
    "            \n",
    "    driver.close()\n",
    "    return updated_edges\n",
    "\n",
    "\n",
    "def set_random_direction_on_edges(uri, user, password, source_node_id_value):\n",
    "    \"\"\"\n",
    "    Finds edges where the source node's 'id' property matches the given value,\n",
    "    and assigns a random number between 0.0 and 1.0 to a new 'strength' property\n",
    "    on each of those edges.\n",
    "    \"\"\"\n",
    "    driver = GraphDatabase.driver(uri, auth=(user, password))\n",
    "    \n",
    "    # The Cypher query to find and update the edges\n",
    "    query = \"\"\"\n",
    "    MATCH (source {id: $source_id})-[rel]->(target)\n",
    "    SET rel.direction = CASE WHEN rand() > 0.5 THEN 'up' ELSE 'down' END\n",
    "    RETURN source.id, type(rel), rel.strength, rel.direction, target.id\n",
    "    \"\"\"\n",
    "    \n",
    "    with driver.session() as session:\n",
    "        result = session.run(query, source_id=source_node_id_value)\n",
    "        \n",
    "        updated_edges = []\n",
    "        for record in result:\n",
    "            updated_edges.append({\n",
    "                'source_id': record['source.id'],\n",
    "                'relationship_type': record['type(rel)'],\n",
    "                'strength': record['rel.strength'],\n",
    "                'direction': record['rel.direction'],\n",
    "                'target_id': record['target.id']\n",
    "            })\n",
    "            \n",
    "    driver.close()\n",
    "    return updated_edges"
   ]
  },
  {
   "cell_type": "code",
   "execution_count": 23,
   "id": "ce2a837e-23bc-4f3b-a000-6afb3688165e",
   "metadata": {},
   "outputs": [],
   "source": [
    "NEO4J_URL = \"bolt://localhost:7687\"\n",
    "NEO4J_USER = \"neo4j\"\n",
    "NEO4J_PASSWORD = \"password\""
   ]
  },
  {
   "cell_type": "code",
   "execution_count": 4,
   "id": "4f5b1ab8-deb9-40b1-bd76-8bdcf9dc15fb",
   "metadata": {},
   "outputs": [
    {
     "name": "stdout",
     "output_type": "stream",
     "text": [
      "Neo4j database reset successfully.\n"
     ]
    }
   ],
   "source": [
    "## Graph DB reset - NEO4J by apptainer \n",
    "## imageD/neo4j\n",
    "passcode = 'itsokaytoasdfdelete'\n",
    "if passcode == 'itsokaytodelete':\n",
    "    driver = GraphDatabase.driver(NEO4J_URL, auth=(NEO4J_USER, NEO4J_PASSWORD))\n",
    "    with driver.session(database=\"neo4j\") as session:  # Specify the database if not the default\n",
    "        session.run(\"MATCH (n) DETACH DELETE n\")\n",
    "        print(\"Neo4j database reset successfully.\")"
   ]
  },
  {
   "cell_type": "code",
   "execution_count": 6,
   "id": "c0541e2a-8be4-436d-9acd-d1c25ce791f7",
   "metadata": {},
   "outputs": [
    {
     "name": "stdout",
     "output_type": "stream",
     "text": [
      "There are 0 nodes.\n",
      "There are 0 edges.\n"
     ]
    }
   ],
   "source": [
    "# Checking the database side\n",
    "driver = GraphDatabase.driver(NEO4J_URL, auth=(NEO4J_USER, NEO4J_PASSWORD))\n",
    "with driver.session() as session:\n",
    "    neo4j_nodes, neo4j_edges = session.execute_read(get_graph_data)\n",
    "\n",
    "print(f'There are {len(neo4j_nodes)} nodes.')\n",
    "print(f'There are {len(neo4j_edges)} edges.')"
   ]
  },
  {
   "cell_type": "code",
   "execution_count": 7,
   "id": "4eba2981-b78d-4ac1-a1d3-4b2595711134",
   "metadata": {},
   "outputs": [],
   "source": [
    "graph = Neo4jGraph(\n",
    "    url= NEO4J_URL,\n",
    "    username=NEO4J_USER, #default\n",
    "    password=NEO4J_PASSWORD #change accordingly\n",
    ")"
   ]
  },
  {
   "cell_type": "code",
   "execution_count": 8,
   "id": "386ca4c4-f10f-47aa-b202-c3def5f864a6",
   "metadata": {},
   "outputs": [],
   "source": [
    "text1 = \"\"\"\n",
    "The transcription factor IL1B regulates the HP gene. \n",
    "The transcription factor IL1B regulates the IL1RN gene. \n",
    "The transcription factor IL1B regulates the IL6 gene. \n",
    "The transcription factor IL1B regulates the NOD2 gene. \n",
    "The transcription factor IL1B regulates the NFKB1 gene. \n",
    "The transcription factor IL1B regulates the PPARA gene. \n",
    "The transcription factor IL6 regulates the IL10 gene. \n",
    "The transcription factor IL6 regulates the CREBBP gene. \n",
    "The transcription factor IL6 regulates the PTEN gene. \n",
    "The transcription factor IL6 regulates the VEGFA gene. \n",
    "The transcription factor NFKB1 regulates the MYC gene. \n",
    "The transcription factor NFKB1 regulates the HIF1A gene. \n",
    "The transcription factor NFKB1 regulates the DDIT3 gene. \n",
    "\"\"\""
   ]
  },
  {
   "cell_type": "code",
   "execution_count": 9,
   "id": "09b2c927-0720-439f-95c6-f3c7308ab164",
   "metadata": {},
   "outputs": [],
   "source": [
    "documents = [Document(page_content=text1)]"
   ]
  },
  {
   "cell_type": "code",
   "execution_count": 10,
   "id": "42fc5bd6-7bad-4b6d-b9a1-2e7e9de407ef",
   "metadata": {},
   "outputs": [],
   "source": [
    "# Initialize the language model for text-to-graph conversion\n",
    "llm = ChatOllama(model=\"phi4:14b\", temperature=0, format=\"json\")  \n",
    "                    # gpt-oss:20b doesn't work. It talks too much.\n",
    "# llm = ChatOllama(model=\"llama3.2\", temperature=0, format=\"json\")\n",
    "llm_transformer_filtered = LLMGraphTransformer(llm=llm)"
   ]
  },
  {
   "cell_type": "code",
   "execution_count": 11,
   "id": "f87b5ff2-c2a2-48ed-b08d-1c44c5400442",
   "metadata": {},
   "outputs": [],
   "source": [
    "# Convert the text into graph documents\n",
    "graph_documents = llm_transformer_filtered.convert_to_graph_documents(documents)"
   ]
  },
  {
   "cell_type": "code",
   "execution_count": null,
   "id": "feec24b5-8273-4a4d-bac4-ce4755120e7e",
   "metadata": {},
   "outputs": [],
   "source": [
    "# for relationship in graph_documents[0].relationships:\n",
    "#     print(relationship)"
   ]
  },
  {
   "cell_type": "code",
   "execution_count": 12,
   "id": "5527cdc9-1cbc-4175-af64-c655b3601063",
   "metadata": {},
   "outputs": [
    {
     "name": "stdout",
     "output_type": "stream",
     "text": [
      "-------  nodes  -------\n"
     ]
    },
    {
     "data": {
      "text/plain": [
       "[Node(id='Il1B', type='Transcription factor', properties={}),\n",
       " Node(id='Hp', type='Gene', properties={}),\n",
       " Node(id='Il1Rn', type='Gene', properties={}),\n",
       " Node(id='Il6', type='Gene', properties={}),\n",
       " Node(id='Nod2', type='Gene', properties={})]"
      ]
     },
     "execution_count": 12,
     "metadata": {},
     "output_type": "execute_result"
    }
   ],
   "source": [
    "print('-------  nodes  -------')\n",
    "graph_documents[0].nodes[0:5]"
   ]
  },
  {
   "cell_type": "code",
   "execution_count": 13,
   "id": "7332856b-82c4-4f2b-9a3f-0bfa6b7b14b5",
   "metadata": {},
   "outputs": [
    {
     "name": "stdout",
     "output_type": "stream",
     "text": [
      "-------  edges  -------\n"
     ]
    },
    {
     "data": {
      "text/plain": [
       "[Relationship(source=Node(id='Il1B', type='Transcription factor', properties={}), target=Node(id='Hp', type='Gene', properties={}), type='REGULATES', properties={}),\n",
       " Relationship(source=Node(id='Il1B', type='Transcription factor', properties={}), target=Node(id='Il1Rn', type='Gene', properties={}), type='REGULATES', properties={}),\n",
       " Relationship(source=Node(id='Il1B', type='Transcription factor', properties={}), target=Node(id='Il6', type='Gene', properties={}), type='REGULATES', properties={}),\n",
       " Relationship(source=Node(id='Il1B', type='Transcription factor', properties={}), target=Node(id='Nod2', type='Gene', properties={}), type='REGULATES', properties={}),\n",
       " Relationship(source=Node(id='Il1B', type='Transcription factor', properties={}), target=Node(id='Nfkb1', type='Gene', properties={}), type='REGULATES', properties={})]"
      ]
     },
     "execution_count": 13,
     "metadata": {},
     "output_type": "execute_result"
    }
   ],
   "source": [
    "print('-------  edges  -------')\n",
    "graph_documents[0].relationships[0:5]"
   ]
  },
  {
   "cell_type": "code",
   "execution_count": 14,
   "id": "4bff5f13-1f85-4671-a038-5bbd5fb45192",
   "metadata": {},
   "outputs": [],
   "source": [
    "# Add the generated graph into Neo4j\n",
    "graph.add_graph_documents(\n",
    "    graph_documents,\n",
    "    baseEntityLabel=True,\n",
    "    include_source=True\n",
    ")"
   ]
  },
  {
   "cell_type": "code",
   "execution_count": 15,
   "id": "a484cf6b-abb7-4ffc-83e8-9475575b6b66",
   "metadata": {},
   "outputs": [
    {
     "name": "stdout",
     "output_type": "stream",
     "text": [
      "There are 15 nodes.\n",
      "There are 27 edges.\n"
     ]
    }
   ],
   "source": [
    "# Checking the database side\n",
    "driver = GraphDatabase.driver(NEO4J_URL, auth=(NEO4J_USER, NEO4J_PASSWORD))\n",
    "with driver.session() as session:\n",
    "    neo4j_nodes, neo4j_edges = session.execute_read(get_graph_data)\n",
    "\n",
    "print(f'There are {len(neo4j_nodes)} nodes.')\n",
    "print(f'There are {len(neo4j_edges)} edges.')"
   ]
  },
  {
   "cell_type": "code",
   "execution_count": 16,
   "id": "597fe444-14ce-4dd0-8861-9dcbecc391f3",
   "metadata": {},
   "outputs": [],
   "source": [
    "## Second text to the DB\n",
    "text2 = \"\"\"\n",
    "The transcription factor NFKB1 regulates the ICAM1 gene. \n",
    "The transcription factor NFKB1 regulates the IL6 gene. \n",
    "The transcription factor PTEN regulates the MT2A gene. \n",
    "The transcription factor PTEN regulates the MTOR gene.\n",
    "\"\"\"\n",
    "\n",
    "documents = [Document(page_content=text2)]\n",
    "\n",
    "graph_documents = llm_transformer_filtered.convert_to_graph_documents(documents)\n",
    "\n",
    "graph.add_graph_documents(\n",
    "    graph_documents,\n",
    "    baseEntityLabel=True,\n",
    "    include_source=True\n",
    ")"
   ]
  },
  {
   "cell_type": "code",
   "execution_count": 17,
   "id": "7b03a0f4-d0df-425d-aaa0-aa1f458e8b5a",
   "metadata": {},
   "outputs": [
    {
     "name": "stdout",
     "output_type": "stream",
     "text": [
      "There are 19 nodes.\n",
      "There are 37 edges.\n"
     ]
    }
   ],
   "source": [
    "# Checking the database side\n",
    "driver = GraphDatabase.driver(NEO4J_URL, auth=(NEO4J_USER, NEO4J_PASSWORD))\n",
    "with driver.session() as session:\n",
    "    neo4j_nodes, neo4j_edges = session.execute_read(get_graph_data)\n",
    "\n",
    "print(f'There are {len(neo4j_nodes)} nodes.')\n",
    "print(f'There are {len(neo4j_edges)} edges.')"
   ]
  },
  {
   "cell_type": "code",
   "execution_count": 29,
   "id": "ae0a72ce-7728-4d48-a614-e7c9a8a63733",
   "metadata": {},
   "outputs": [
    {
     "name": "stdout",
     "output_type": "stream",
     "text": [
      "[{'id': '4:77d6b202-ff1a-4d0f-ae9f-df70c44e56a7:34', 'labels': ['Document'], 'properties': {'text': '\\nThe transcription factor IL1B regulates the HP gene. \\nThe transcription factor IL1B regulates the IL1RN gene. \\nThe transcription factor IL1B regulates the IL6 gene. \\nThe transcription factor IL1B regulates the NOD2 gene. \\nThe transcription factor IL1B regulates the NFKB1 gene. \\nThe transcription factor IL1B regulates the PPARA gene. \\nThe transcription factor IL6 regulates the IL10 gene. \\nThe transcription factor IL6 regulates the CREBBP gene. \\nThe transcription factor IL6 regulates the PTEN gene. \\nThe transcription factor IL6 regulates the VEGFA gene. \\nThe transcription factor NFKB1 regulates the MYC gene. \\nThe transcription factor NFKB1 regulates the HIF1A gene. \\nThe transcription factor NFKB1 regulates the DDIT3 gene. \\n', 'id': 'c00ba19e6e99a7e47d958126ba265727'}}, {'id': '4:77d6b202-ff1a-4d0f-ae9f-df70c44e56a7:35', 'labels': ['Transcription factor', '__Entity__'], 'properties': {'id': 'Il1B'}}, {'id': '4:77d6b202-ff1a-4d0f-ae9f-df70c44e56a7:36', 'labels': ['__Entity__', 'Gene'], 'properties': {'id': 'Hp'}}, {'id': '4:77d6b202-ff1a-4d0f-ae9f-df70c44e56a7:37', 'labels': ['__Entity__', 'Gene'], 'properties': {'id': 'Il1Rn'}}, {'id': '4:77d6b202-ff1a-4d0f-ae9f-df70c44e56a7:38', 'labels': ['__Entity__', 'Gene'], 'properties': {'id': 'Il6'}}, {'id': '4:77d6b202-ff1a-4d0f-ae9f-df70c44e56a7:39', 'labels': ['__Entity__', 'Gene'], 'properties': {'id': 'Nod2'}}, {'id': '4:77d6b202-ff1a-4d0f-ae9f-df70c44e56a7:40', 'labels': ['Transcription factor', '__Entity__'], 'properties': {'id': 'Nfkb1'}}, {'id': '4:77d6b202-ff1a-4d0f-ae9f-df70c44e56a7:41', 'labels': ['__Entity__', 'Gene'], 'properties': {'id': 'Ppara'}}, {'id': '4:77d6b202-ff1a-4d0f-ae9f-df70c44e56a7:42', 'labels': ['__Entity__', 'Gene'], 'properties': {'id': 'Myc'}}, {'id': '4:77d6b202-ff1a-4d0f-ae9f-df70c44e56a7:43', 'labels': ['__Entity__', 'Gene'], 'properties': {'id': 'Hif1A'}}, {'id': '4:77d6b202-ff1a-4d0f-ae9f-df70c44e56a7:44', 'labels': ['__Entity__', 'Gene'], 'properties': {'id': 'Ddit3'}}, {'id': '4:77d6b202-ff1a-4d0f-ae9f-df70c44e56a7:45', 'labels': ['__Entity__', 'Gene'], 'properties': {'id': 'Il10'}}, {'id': '4:77d6b202-ff1a-4d0f-ae9f-df70c44e56a7:46', 'labels': ['__Entity__', 'Gene'], 'properties': {'id': 'Crebbp'}}, {'id': '4:77d6b202-ff1a-4d0f-ae9f-df70c44e56a7:47', 'labels': ['Transcription factor', '__Entity__', 'Gene'], 'properties': {'id': 'Pten'}}, {'id': '4:77d6b202-ff1a-4d0f-ae9f-df70c44e56a7:48', 'labels': ['__Entity__', 'Gene'], 'properties': {'id': 'Vegfa'}}, {'id': '4:77d6b202-ff1a-4d0f-ae9f-df70c44e56a7:49', 'labels': ['Document'], 'properties': {'text': '\\nThe transcription factor NFKB1 regulates the ICAM1 gene. \\nThe transcription factor NFKB1 regulates the IL6 gene. \\nThe transcription factor PTEN regulates the MT2A gene. \\nThe transcription factor PTEN regulates the MTOR gene.\\n', 'id': 'fc2788a6df106fb04488da11a31ad7c9'}}, {'id': '4:77d6b202-ff1a-4d0f-ae9f-df70c44e56a7:50', 'labels': ['__Entity__', 'Gene'], 'properties': {'id': 'Icam1'}}, {'id': '4:77d6b202-ff1a-4d0f-ae9f-df70c44e56a7:51', 'labels': ['__Entity__', 'Gene'], 'properties': {'id': 'Mt2A'}}, {'id': '4:77d6b202-ff1a-4d0f-ae9f-df70c44e56a7:52', 'labels': ['__Entity__', 'Gene'], 'properties': {'id': 'Mtor'}}]\n"
     ]
    }
   ],
   "source": [
    "# Checking the database side\n",
    "driver = GraphDatabase.driver(NEO4J_URL, auth=(NEO4J_USER, NEO4J_PASSWORD))\n",
    "with driver.session() as session:\n",
    "    neo4j_nodes, neo4j_edges = session.execute_read(get_graph_data)\n",
    "\n",
    "print(neo4j_nodes)"
   ]
  },
  {
   "cell_type": "code",
   "execution_count": 30,
   "id": "11b6d303-0ff2-4bb8-bc4b-cc2e946ca786",
   "metadata": {},
   "outputs": [
    {
     "name": "stdout",
     "output_type": "stream",
     "text": [
      "[{'source_id': 'Il1B', 'relationship_type': 'REGULATES', 'strength': 0.9177109220703087, 'target_id': 'Nod2'}, {'source_id': 'Il1B', 'relationship_type': 'REGULATES', 'strength': 0.7676950814661141, 'target_id': 'Ppara'}, {'source_id': 'Il1B', 'relationship_type': 'REGULATES', 'strength': 0.7562856480483472, 'target_id': 'Hp'}, {'source_id': 'Il1B', 'relationship_type': 'REGULATES', 'strength': 0.7687594575575096, 'target_id': 'Nfkb1'}, {'source_id': 'Il1B', 'relationship_type': 'REGULATES', 'strength': 0.8986636124245094, 'target_id': 'Il6'}, {'source_id': 'Il1B', 'relationship_type': 'REGULATES', 'strength': 0.7777951275856825, 'target_id': 'Il1Rn'}]\n"
     ]
    }
   ],
   "source": [
    "updated_edges = set_random_strength_on_edges(uri=NEO4J_URL, user=NEO4J_USER, \n",
    "                                             password=NEO4J_PASSWORD, source_node_id_value='Il1B')\n",
    "print(updated_edges)\n"
   ]
  },
  {
   "cell_type": "code",
   "execution_count": 31,
   "id": "d828005a-1fa5-4391-9a6e-ae2b0e362e4e",
   "metadata": {},
   "outputs": [
    {
     "name": "stdout",
     "output_type": "stream",
     "text": [
      "[{'source_id': 'Nfkb1', 'relationship_type': 'REGULATES', 'strength': 0.7903916725031803, 'target_id': 'Il6'}, {'source_id': 'Nfkb1', 'relationship_type': 'REGULATES', 'strength': 0.9554545677431383, 'target_id': 'Icam1'}, {'source_id': 'Nfkb1', 'relationship_type': 'REGULATES', 'strength': 0.9308901405210024, 'target_id': 'Hif1A'}, {'source_id': 'Nfkb1', 'relationship_type': 'REGULATES', 'strength': 0.722346916416799, 'target_id': 'Ddit3'}, {'source_id': 'Nfkb1', 'relationship_type': 'REGULATES', 'strength': 0.7170101280956744, 'target_id': 'Myc'}]\n",
      "[{'source_id': 'Pten', 'relationship_type': 'REGULATES', 'strength': 0.8261261095546021, 'target_id': 'Mt2A'}, {'source_id': 'Pten', 'relationship_type': 'REGULATES', 'strength': 0.883770434228994, 'target_id': 'Mtor'}]\n",
      "[{'source_id': 'Il6', 'relationship_type': 'REGULATES', 'strength': 0.9021094214246788, 'target_id': 'Crebbp'}, {'source_id': 'Il6', 'relationship_type': 'REGULATES', 'strength': 0.8633853230003733, 'target_id': 'Il10'}, {'source_id': 'Il6', 'relationship_type': 'REGULATES', 'strength': 0.8442470116183107, 'target_id': 'Vegfa'}, {'source_id': 'Il6', 'relationship_type': 'REGULATES', 'strength': 0.9969861474868543, 'target_id': 'Pten'}]\n"
     ]
    }
   ],
   "source": [
    "updated_edges = set_random_strength_on_edges(uri=NEO4J_URL, user=NEO4J_USER, \n",
    "                                             password=NEO4J_PASSWORD, source_node_id_value='Nfkb1')\n",
    "print(updated_edges)\n",
    "updated_edges = set_random_strength_on_edges(uri=NEO4J_URL, user=NEO4J_USER, \n",
    "                                             password=NEO4J_PASSWORD, source_node_id_value='Pten')\n",
    "print(updated_edges)\n",
    "updated_edges = set_random_strength_on_edges(uri=NEO4J_URL, user=NEO4J_USER, \n",
    "                                             password=NEO4J_PASSWORD, source_node_id_value='Il6')\n",
    "print(updated_edges)"
   ]
  },
  {
   "cell_type": "code",
   "execution_count": 33,
   "id": "a4dfc07b-52dc-4395-86c1-a3f7834ac9d7",
   "metadata": {},
   "outputs": [
    {
     "name": "stdout",
     "output_type": "stream",
     "text": [
      "[{'source_id': 'Il1B', 'relationship_type': 'REGULATES', 'strength': 0.9177109220703087, 'direction': 'down', 'target_id': 'Nod2'}, {'source_id': 'Il1B', 'relationship_type': 'REGULATES', 'strength': 0.7676950814661141, 'direction': 'up', 'target_id': 'Ppara'}, {'source_id': 'Il1B', 'relationship_type': 'REGULATES', 'strength': 0.7562856480483472, 'direction': 'up', 'target_id': 'Hp'}, {'source_id': 'Il1B', 'relationship_type': 'REGULATES', 'strength': 0.7687594575575096, 'direction': 'down', 'target_id': 'Nfkb1'}, {'source_id': 'Il1B', 'relationship_type': 'REGULATES', 'strength': 0.8986636124245094, 'direction': 'down', 'target_id': 'Il6'}, {'source_id': 'Il1B', 'relationship_type': 'REGULATES', 'strength': 0.7777951275856825, 'direction': 'down', 'target_id': 'Il1Rn'}]\n",
      "[{'source_id': 'Nfkb1', 'relationship_type': 'REGULATES', 'strength': 0.7903916725031803, 'direction': 'up', 'target_id': 'Il6'}, {'source_id': 'Nfkb1', 'relationship_type': 'REGULATES', 'strength': 0.9554545677431383, 'direction': 'up', 'target_id': 'Icam1'}, {'source_id': 'Nfkb1', 'relationship_type': 'REGULATES', 'strength': 0.9308901405210024, 'direction': 'down', 'target_id': 'Hif1A'}, {'source_id': 'Nfkb1', 'relationship_type': 'REGULATES', 'strength': 0.722346916416799, 'direction': 'up', 'target_id': 'Ddit3'}, {'source_id': 'Nfkb1', 'relationship_type': 'REGULATES', 'strength': 0.7170101280956744, 'direction': 'up', 'target_id': 'Myc'}]\n",
      "[{'source_id': 'Pten', 'relationship_type': 'REGULATES', 'strength': 0.8261261095546021, 'direction': 'up', 'target_id': 'Mt2A'}, {'source_id': 'Pten', 'relationship_type': 'REGULATES', 'strength': 0.883770434228994, 'direction': 'down', 'target_id': 'Mtor'}]\n",
      "[{'source_id': 'Il6', 'relationship_type': 'REGULATES', 'strength': 0.9021094214246788, 'direction': 'down', 'target_id': 'Crebbp'}, {'source_id': 'Il6', 'relationship_type': 'REGULATES', 'strength': 0.8633853230003733, 'direction': 'up', 'target_id': 'Il10'}, {'source_id': 'Il6', 'relationship_type': 'REGULATES', 'strength': 0.8442470116183107, 'direction': 'up', 'target_id': 'Vegfa'}, {'source_id': 'Il6', 'relationship_type': 'REGULATES', 'strength': 0.9969861474868543, 'direction': 'up', 'target_id': 'Pten'}]\n"
     ]
    }
   ],
   "source": [
    "updated_edges = set_random_direction_on_edges(uri=NEO4J_URL, user=NEO4J_USER, \n",
    "                                             password=NEO4J_PASSWORD, source_node_id_value='Il1B')\n",
    "print(updated_edges)\n",
    "\n",
    "updated_edges = set_random_direction_on_edges(uri=NEO4J_URL, user=NEO4J_USER, \n",
    "                                             password=NEO4J_PASSWORD, source_node_id_value='Nfkb1')\n",
    "print(updated_edges)\n",
    "\n",
    "updated_edges = set_random_direction_on_edges(uri=NEO4J_URL, user=NEO4J_USER, \n",
    "                                             password=NEO4J_PASSWORD, source_node_id_value='Pten')\n",
    "print(updated_edges)\n",
    "\n",
    "updated_edges = set_random_direction_on_edges(uri=NEO4J_URL, user=NEO4J_USER, \n",
    "                                             password=NEO4J_PASSWORD, source_node_id_value='Il6')\n",
    "print(updated_edges)"
   ]
  },
  {
   "cell_type": "code",
   "execution_count": 34,
   "id": "8fbf21e6-e63f-4d4a-b38a-2ac7f153f026",
   "metadata": {},
   "outputs": [],
   "source": [
    "# Checking the database side\n",
    "driver = GraphDatabase.driver(NEO4J_URL, auth=(NEO4J_USER, NEO4J_PASSWORD))\n",
    "with driver.session() as session:\n",
    "    neo4j_nodes, neo4j_edges = session.execute_read(get_graph_data)"
   ]
  },
  {
   "cell_type": "code",
   "execution_count": 35,
   "id": "ddda9ca2-4f02-43c7-9a73-f183d27d5207",
   "metadata": {},
   "outputs": [
    {
     "data": {
      "text/plain": [
       "[{'start_id': '4:77d6b202-ff1a-4d0f-ae9f-df70c44e56a7:34',\n",
       "  'end_id': '4:77d6b202-ff1a-4d0f-ae9f-df70c44e56a7:35',\n",
       "  'type': 'MENTIONS',\n",
       "  'properties': {}},\n",
       " {'start_id': '4:77d6b202-ff1a-4d0f-ae9f-df70c44e56a7:34',\n",
       "  'end_id': '4:77d6b202-ff1a-4d0f-ae9f-df70c44e56a7:36',\n",
       "  'type': 'MENTIONS',\n",
       "  'properties': {}},\n",
       " {'start_id': '4:77d6b202-ff1a-4d0f-ae9f-df70c44e56a7:34',\n",
       "  'end_id': '4:77d6b202-ff1a-4d0f-ae9f-df70c44e56a7:37',\n",
       "  'type': 'MENTIONS',\n",
       "  'properties': {}},\n",
       " {'start_id': '4:77d6b202-ff1a-4d0f-ae9f-df70c44e56a7:34',\n",
       "  'end_id': '4:77d6b202-ff1a-4d0f-ae9f-df70c44e56a7:38',\n",
       "  'type': 'MENTIONS',\n",
       "  'properties': {}},\n",
       " {'start_id': '4:77d6b202-ff1a-4d0f-ae9f-df70c44e56a7:34',\n",
       "  'end_id': '4:77d6b202-ff1a-4d0f-ae9f-df70c44e56a7:39',\n",
       "  'type': 'MENTIONS',\n",
       "  'properties': {}},\n",
       " {'start_id': '4:77d6b202-ff1a-4d0f-ae9f-df70c44e56a7:34',\n",
       "  'end_id': '4:77d6b202-ff1a-4d0f-ae9f-df70c44e56a7:40',\n",
       "  'type': 'MENTIONS',\n",
       "  'properties': {}},\n",
       " {'start_id': '4:77d6b202-ff1a-4d0f-ae9f-df70c44e56a7:34',\n",
       "  'end_id': '4:77d6b202-ff1a-4d0f-ae9f-df70c44e56a7:41',\n",
       "  'type': 'MENTIONS',\n",
       "  'properties': {}},\n",
       " {'start_id': '4:77d6b202-ff1a-4d0f-ae9f-df70c44e56a7:34',\n",
       "  'end_id': '4:77d6b202-ff1a-4d0f-ae9f-df70c44e56a7:42',\n",
       "  'type': 'MENTIONS',\n",
       "  'properties': {}},\n",
       " {'start_id': '4:77d6b202-ff1a-4d0f-ae9f-df70c44e56a7:34',\n",
       "  'end_id': '4:77d6b202-ff1a-4d0f-ae9f-df70c44e56a7:43',\n",
       "  'type': 'MENTIONS',\n",
       "  'properties': {}},\n",
       " {'start_id': '4:77d6b202-ff1a-4d0f-ae9f-df70c44e56a7:34',\n",
       "  'end_id': '4:77d6b202-ff1a-4d0f-ae9f-df70c44e56a7:44',\n",
       "  'type': 'MENTIONS',\n",
       "  'properties': {}},\n",
       " {'start_id': '4:77d6b202-ff1a-4d0f-ae9f-df70c44e56a7:34',\n",
       "  'end_id': '4:77d6b202-ff1a-4d0f-ae9f-df70c44e56a7:45',\n",
       "  'type': 'MENTIONS',\n",
       "  'properties': {}},\n",
       " {'start_id': '4:77d6b202-ff1a-4d0f-ae9f-df70c44e56a7:34',\n",
       "  'end_id': '4:77d6b202-ff1a-4d0f-ae9f-df70c44e56a7:46',\n",
       "  'type': 'MENTIONS',\n",
       "  'properties': {}},\n",
       " {'start_id': '4:77d6b202-ff1a-4d0f-ae9f-df70c44e56a7:34',\n",
       "  'end_id': '4:77d6b202-ff1a-4d0f-ae9f-df70c44e56a7:47',\n",
       "  'type': 'MENTIONS',\n",
       "  'properties': {}},\n",
       " {'start_id': '4:77d6b202-ff1a-4d0f-ae9f-df70c44e56a7:34',\n",
       "  'end_id': '4:77d6b202-ff1a-4d0f-ae9f-df70c44e56a7:48',\n",
       "  'type': 'MENTIONS',\n",
       "  'properties': {}},\n",
       " {'start_id': '4:77d6b202-ff1a-4d0f-ae9f-df70c44e56a7:35',\n",
       "  'end_id': '4:77d6b202-ff1a-4d0f-ae9f-df70c44e56a7:36',\n",
       "  'type': 'REGULATES',\n",
       "  'properties': {'strength': 0.7562856480483472, 'direction': 'up'}},\n",
       " {'start_id': '4:77d6b202-ff1a-4d0f-ae9f-df70c44e56a7:35',\n",
       "  'end_id': '4:77d6b202-ff1a-4d0f-ae9f-df70c44e56a7:37',\n",
       "  'type': 'REGULATES',\n",
       "  'properties': {'strength': 0.7777951275856825, 'direction': 'down'}},\n",
       " {'start_id': '4:77d6b202-ff1a-4d0f-ae9f-df70c44e56a7:35',\n",
       "  'end_id': '4:77d6b202-ff1a-4d0f-ae9f-df70c44e56a7:38',\n",
       "  'type': 'REGULATES',\n",
       "  'properties': {'strength': 0.8986636124245094, 'direction': 'down'}},\n",
       " {'start_id': '4:77d6b202-ff1a-4d0f-ae9f-df70c44e56a7:35',\n",
       "  'end_id': '4:77d6b202-ff1a-4d0f-ae9f-df70c44e56a7:39',\n",
       "  'type': 'REGULATES',\n",
       "  'properties': {'strength': 0.9177109220703087, 'direction': 'down'}},\n",
       " {'start_id': '4:77d6b202-ff1a-4d0f-ae9f-df70c44e56a7:35',\n",
       "  'end_id': '4:77d6b202-ff1a-4d0f-ae9f-df70c44e56a7:40',\n",
       "  'type': 'REGULATES',\n",
       "  'properties': {'strength': 0.7687594575575096, 'direction': 'down'}},\n",
       " {'start_id': '4:77d6b202-ff1a-4d0f-ae9f-df70c44e56a7:35',\n",
       "  'end_id': '4:77d6b202-ff1a-4d0f-ae9f-df70c44e56a7:41',\n",
       "  'type': 'REGULATES',\n",
       "  'properties': {'strength': 0.7676950814661141, 'direction': 'up'}},\n",
       " {'start_id': '4:77d6b202-ff1a-4d0f-ae9f-df70c44e56a7:38',\n",
       "  'end_id': '4:77d6b202-ff1a-4d0f-ae9f-df70c44e56a7:45',\n",
       "  'type': 'REGULATES',\n",
       "  'properties': {'strength': 0.8633853230003733, 'direction': 'up'}},\n",
       " {'start_id': '4:77d6b202-ff1a-4d0f-ae9f-df70c44e56a7:38',\n",
       "  'end_id': '4:77d6b202-ff1a-4d0f-ae9f-df70c44e56a7:46',\n",
       "  'type': 'REGULATES',\n",
       "  'properties': {'strength': 0.9021094214246788, 'direction': 'down'}},\n",
       " {'start_id': '4:77d6b202-ff1a-4d0f-ae9f-df70c44e56a7:38',\n",
       "  'end_id': '4:77d6b202-ff1a-4d0f-ae9f-df70c44e56a7:47',\n",
       "  'type': 'REGULATES',\n",
       "  'properties': {'strength': 0.9969861474868543, 'direction': 'up'}},\n",
       " {'start_id': '4:77d6b202-ff1a-4d0f-ae9f-df70c44e56a7:38',\n",
       "  'end_id': '4:77d6b202-ff1a-4d0f-ae9f-df70c44e56a7:48',\n",
       "  'type': 'REGULATES',\n",
       "  'properties': {'strength': 0.8442470116183107, 'direction': 'up'}},\n",
       " {'start_id': '4:77d6b202-ff1a-4d0f-ae9f-df70c44e56a7:40',\n",
       "  'end_id': '4:77d6b202-ff1a-4d0f-ae9f-df70c44e56a7:42',\n",
       "  'type': 'REGULATES',\n",
       "  'properties': {'strength': 0.7170101280956744, 'direction': 'up'}},\n",
       " {'start_id': '4:77d6b202-ff1a-4d0f-ae9f-df70c44e56a7:40',\n",
       "  'end_id': '4:77d6b202-ff1a-4d0f-ae9f-df70c44e56a7:43',\n",
       "  'type': 'REGULATES',\n",
       "  'properties': {'strength': 0.9308901405210024, 'direction': 'down'}},\n",
       " {'start_id': '4:77d6b202-ff1a-4d0f-ae9f-df70c44e56a7:40',\n",
       "  'end_id': '4:77d6b202-ff1a-4d0f-ae9f-df70c44e56a7:44',\n",
       "  'type': 'REGULATES',\n",
       "  'properties': {'strength': 0.722346916416799, 'direction': 'up'}},\n",
       " {'start_id': '4:77d6b202-ff1a-4d0f-ae9f-df70c44e56a7:49',\n",
       "  'end_id': '4:77d6b202-ff1a-4d0f-ae9f-df70c44e56a7:40',\n",
       "  'type': 'MENTIONS',\n",
       "  'properties': {}},\n",
       " {'start_id': '4:77d6b202-ff1a-4d0f-ae9f-df70c44e56a7:49',\n",
       "  'end_id': '4:77d6b202-ff1a-4d0f-ae9f-df70c44e56a7:50',\n",
       "  'type': 'MENTIONS',\n",
       "  'properties': {}},\n",
       " {'start_id': '4:77d6b202-ff1a-4d0f-ae9f-df70c44e56a7:49',\n",
       "  'end_id': '4:77d6b202-ff1a-4d0f-ae9f-df70c44e56a7:38',\n",
       "  'type': 'MENTIONS',\n",
       "  'properties': {}},\n",
       " {'start_id': '4:77d6b202-ff1a-4d0f-ae9f-df70c44e56a7:49',\n",
       "  'end_id': '4:77d6b202-ff1a-4d0f-ae9f-df70c44e56a7:47',\n",
       "  'type': 'MENTIONS',\n",
       "  'properties': {}},\n",
       " {'start_id': '4:77d6b202-ff1a-4d0f-ae9f-df70c44e56a7:49',\n",
       "  'end_id': '4:77d6b202-ff1a-4d0f-ae9f-df70c44e56a7:51',\n",
       "  'type': 'MENTIONS',\n",
       "  'properties': {}},\n",
       " {'start_id': '4:77d6b202-ff1a-4d0f-ae9f-df70c44e56a7:49',\n",
       "  'end_id': '4:77d6b202-ff1a-4d0f-ae9f-df70c44e56a7:52',\n",
       "  'type': 'MENTIONS',\n",
       "  'properties': {}},\n",
       " {'start_id': '4:77d6b202-ff1a-4d0f-ae9f-df70c44e56a7:40',\n",
       "  'end_id': '4:77d6b202-ff1a-4d0f-ae9f-df70c44e56a7:50',\n",
       "  'type': 'REGULATES',\n",
       "  'properties': {'strength': 0.9554545677431383, 'direction': 'up'}},\n",
       " {'start_id': '4:77d6b202-ff1a-4d0f-ae9f-df70c44e56a7:40',\n",
       "  'end_id': '4:77d6b202-ff1a-4d0f-ae9f-df70c44e56a7:38',\n",
       "  'type': 'REGULATES',\n",
       "  'properties': {'strength': 0.7903916725031803, 'direction': 'up'}},\n",
       " {'start_id': '4:77d6b202-ff1a-4d0f-ae9f-df70c44e56a7:47',\n",
       "  'end_id': '4:77d6b202-ff1a-4d0f-ae9f-df70c44e56a7:51',\n",
       "  'type': 'REGULATES',\n",
       "  'properties': {'strength': 0.8261261095546021, 'direction': 'up'}},\n",
       " {'start_id': '4:77d6b202-ff1a-4d0f-ae9f-df70c44e56a7:47',\n",
       "  'end_id': '4:77d6b202-ff1a-4d0f-ae9f-df70c44e56a7:52',\n",
       "  'type': 'REGULATES',\n",
       "  'properties': {'strength': 0.883770434228994, 'direction': 'down'}}]"
      ]
     },
     "execution_count": 35,
     "metadata": {},
     "output_type": "execute_result"
    }
   ],
   "source": [
    "neo4j_edges"
   ]
  },
  {
   "cell_type": "code",
   "execution_count": null,
   "id": "42e30da9-fb73-49a0-909d-2ee647c796f5",
   "metadata": {},
   "outputs": [],
   "source": []
  }
 ],
 "metadata": {
  "kernelspec": {
   "display_name": "Python 3 (ipykernel)",
   "language": "python",
   "name": "python3"
  },
  "language_info": {
   "codemirror_mode": {
    "name": "ipython",
    "version": 3
   },
   "file_extension": ".py",
   "mimetype": "text/x-python",
   "name": "python",
   "nbconvert_exporter": "python",
   "pygments_lexer": "ipython3",
   "version": "3.11.4"
  }
 },
 "nbformat": 4,
 "nbformat_minor": 5
}
